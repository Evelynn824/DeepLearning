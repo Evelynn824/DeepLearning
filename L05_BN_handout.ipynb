{
  "cells": [
    {
      "cell_type": "markdown",
      "metadata": {
        "id": "view-in-github",
        "colab_type": "text"
      },
      "source": [
        "<a href=\"https://colab.research.google.com/github/Evelynn824/DeepLearning/blob/main/L05_BN_handout.ipynb\" target=\"_parent\"><img src=\"https://colab.research.google.com/assets/colab-badge.svg\" alt=\"Open In Colab\"/></a>"
      ]
    },
    {
      "cell_type": "code",
      "execution_count": 17,
      "id": "882826d4",
      "metadata": {
        "id": "882826d4"
      },
      "outputs": [],
      "source": [
        "import torch\n",
        "import torch.nn as nn\n",
        "import numpy as np"
      ]
    },
    {
      "cell_type": "code",
      "execution_count": 18,
      "id": "73e3a452",
      "metadata": {
        "id": "73e3a452"
      },
      "outputs": [],
      "source": [
        "# Without Learnable Parameters\n",
        "C = 3\n",
        "H = 32\n",
        "W = 32\n",
        "N = 128\n",
        "BN = nn.BatchNorm2d(C, affine=False)\n",
        "input = torch.randn(N, C, H, W)\n",
        "#input = (torch.randint(1,9,(N, C, H, W))).float()\n",
        "output = BN(input)"
      ]
    },
    {
      "cell_type": "code",
      "execution_count": 19,
      "id": "7231d102",
      "metadata": {
        "id": "7231d102"
      },
      "outputs": [],
      "source": [
        "# calculate mean and std, one line of code\n",
        "# 少了一个epsilon 少了方差可能为0（即分母为0）\n",
        "mean = torch.mean(input, dim = (0,2,3),keepdim = True)\n",
        "std = torch.std(input, dim = (0,2,3), keepdim = True, unbiased = False)\n",
        "\n",
        "# calculate normalized output\n",
        "output_mal = (input - mean)/(std)"
      ]
    },
    {
      "cell_type": "code",
      "execution_count": 20,
      "id": "3160fd54",
      "metadata": {
        "colab": {
          "base_uri": "https://localhost:8080/"
        },
        "id": "3160fd54",
        "outputId": "9c2b72fd-1e96-4e34-812a-8ec290ef73db"
      },
      "outputs": [
        {
          "output_type": "execute_result",
          "data": {
            "text/plain": [
              "(tensor([[[[-5.7167e-05]],\n",
              " \n",
              "          [[ 8.7506e-04]],\n",
              " \n",
              "          [[-7.9311e-04]]]]),\n",
              " tensor([[[[0.9969]],\n",
              " \n",
              "          [[1.0018]],\n",
              " \n",
              "          [[0.9976]]]]))"
            ]
          },
          "metadata": {},
          "execution_count": 20
        }
      ],
      "source": [
        "mean, std"
      ]
    },
    {
      "cell_type": "code",
      "execution_count": 21,
      "id": "e08e6cc5",
      "metadata": {
        "colab": {
          "base_uri": "https://localhost:8080/"
        },
        "id": "e08e6cc5",
        "outputId": "ff49e885-a042-4956-91ab-565a9ca90534"
      },
      "outputs": [
        {
          "output_type": "execute_result",
          "data": {
            "text/plain": [
              "(torch.Size([1, 3, 1, 1]), torch.Size([1, 3, 1, 1]))"
            ]
          },
          "metadata": {},
          "execution_count": 21
        }
      ],
      "source": [
        "std.shape, mean.shape"
      ]
    },
    {
      "cell_type": "code",
      "execution_count": 23,
      "id": "986e3848",
      "metadata": {
        "scrolled": true,
        "colab": {
          "base_uri": "https://localhost:8080/"
        },
        "id": "986e3848",
        "outputId": "d9c08dbb-69ed-49f8-c334-aa640f3cb26a"
      },
      "outputs": [
        {
          "output_type": "execute_result",
          "data": {
            "text/plain": [
              "tensor(3.9923e-06)"
            ]
          },
          "metadata": {},
          "execution_count": 23
        }
      ],
      "source": [
        "torch.mean(torch.abs(output_mal - output))"
      ]
    }
  ],
  "metadata": {
    "kernelspec": {
      "display_name": "Python 3 (ipykernel)",
      "language": "python",
      "name": "python3"
    },
    "language_info": {
      "codemirror_mode": {
        "name": "ipython",
        "version": 3
      },
      "file_extension": ".py",
      "mimetype": "text/x-python",
      "name": "python",
      "nbconvert_exporter": "python",
      "pygments_lexer": "ipython3",
      "version": "3.9.15"
    },
    "colab": {
      "provenance": [],
      "include_colab_link": true
    }
  },
  "nbformat": 4,
  "nbformat_minor": 5
}