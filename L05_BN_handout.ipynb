{
  "cells": [
    {
      "cell_type": "markdown",
      "metadata": {
        "id": "view-in-github",
        "colab_type": "text"
      },
      "source": [
        "<a href=\"https://colab.research.google.com/github/Evelynn824/DeepLearning/blob/main/L05_BN_handout.ipynb\" target=\"_parent\"><img src=\"https://colab.research.google.com/assets/colab-badge.svg\" alt=\"Open In Colab\"/></a>"
      ]
    },
    {
      "cell_type": "code",
      "execution_count": null,
      "id": "882826d4",
      "metadata": {
        "id": "882826d4"
      },
      "outputs": [],
      "source": [
        "import torch\n",
        "import torch.nn as nn\n",
        "import numpy as np"
      ]
    },
    {
      "cell_type": "code",
      "execution_count": null,
      "id": "73e3a452",
      "metadata": {
        "id": "73e3a452"
      },
      "outputs": [],
      "source": [
        "# Without Learnable Parameters\n",
        "C = 3\n",
        "H = 32\n",
        "W = 32\n",
        "N = 128\n",
        "BN = nn.BatchNorm2d(C, affine=False)\n",
        "input = torch.randn(N, C, H, W)\n",
        "#input = (torch.randint(1,9,(N, C, H, W))).float()\n",
        "output = BN(input)"
      ]
    },
    {
      "cell_type": "code",
      "execution_count": null,
      "id": "7231d102",
      "metadata": {
        "id": "7231d102",
        "outputId": "6c8d1fc1-b4fe-45bd-eb8a-ebe2ebb8d370"
      },
      "outputs": [
        {
          "ename": "NameError",
          "evalue": "name 'mean' is not defined",
          "output_type": "error",
          "traceback": [
            "\u001b[0;31m---------------------------------------------------------------------------\u001b[0m",
            "\u001b[0;31mNameError\u001b[0m                                 Traceback (most recent call last)",
            "Cell \u001b[0;32mIn[2], line 5\u001b[0m\n\u001b[1;32m      1\u001b[0m \u001b[38;5;66;03m# calculate mean and std, one line of code\u001b[39;00m\n\u001b[1;32m      2\u001b[0m \n\u001b[1;32m      3\u001b[0m \n\u001b[1;32m      4\u001b[0m \u001b[38;5;66;03m# calculate normalized output\u001b[39;00m\n\u001b[0;32m----> 5\u001b[0m output_mal \u001b[38;5;241m=\u001b[39m (\u001b[38;5;28minput\u001b[39m \u001b[38;5;241m-\u001b[39m \u001b[43mmean\u001b[49m)\u001b[38;5;241m/\u001b[39m(std)\n",
            "\u001b[0;31mNameError\u001b[0m: name 'mean' is not defined"
          ]
        }
      ],
      "source": [
        "# calculate mean and std, one line of code\n",
        "mean = ?\n",
        "std = ?\n",
        "\n",
        "# calculate normalized output\n",
        "output_mal = (input - mean)/(std)"
      ]
    },
    {
      "cell_type": "code",
      "execution_count": null,
      "id": "3160fd54",
      "metadata": {
        "id": "3160fd54"
      },
      "outputs": [],
      "source": [
        "mean, std"
      ]
    },
    {
      "cell_type": "code",
      "execution_count": null,
      "id": "e08e6cc5",
      "metadata": {
        "id": "e08e6cc5",
        "outputId": "bdbfa0ca-252c-4a10-ca49-11c332cb8b7a"
      },
      "outputs": [
        {
          "data": {
            "text/plain": [
              "(torch.Size([1, 3, 1, 1]), torch.Size([1, 3, 1, 1]))"
            ]
          },
          "execution_count": 44,
          "metadata": {},
          "output_type": "execute_result"
        }
      ],
      "source": [
        "delta.shape, mean.shape"
      ]
    },
    {
      "cell_type": "code",
      "execution_count": null,
      "id": "a24280f4",
      "metadata": {
        "id": "a24280f4"
      },
      "outputs": [],
      "source": []
    },
    {
      "cell_type": "code",
      "execution_count": null,
      "id": "986e3848",
      "metadata": {
        "scrolled": true,
        "id": "986e3848",
        "outputId": "b8094186-96ab-4abb-c97d-f07ecc98e183"
      },
      "outputs": [
        {
          "ename": "NameError",
          "evalue": "name 'output_mal' is not defined",
          "output_type": "error",
          "traceback": [
            "\u001b[0;31m---------------------------------------------------------------------------\u001b[0m",
            "\u001b[0;31mNameError\u001b[0m                                 Traceback (most recent call last)",
            "Cell \u001b[0;32mIn[3], line 1\u001b[0m\n\u001b[0;32m----> 1\u001b[0m torch\u001b[38;5;241m.\u001b[39mmean(torch\u001b[38;5;241m.\u001b[39mabs(\u001b[43moutput_mal\u001b[49m \u001b[38;5;241m-\u001b[39m output))\n",
            "\u001b[0;31mNameError\u001b[0m: name 'output_mal' is not defined"
          ]
        }
      ],
      "source": [
        "torch.mean(torch.abs(output_mal - output))"
      ]
    }
  ],
  "metadata": {
    "kernelspec": {
      "display_name": "Python 3 (ipykernel)",
      "language": "python",
      "name": "python3"
    },
    "language_info": {
      "codemirror_mode": {
        "name": "ipython",
        "version": 3
      },
      "file_extension": ".py",
      "mimetype": "text/x-python",
      "name": "python",
      "nbconvert_exporter": "python",
      "pygments_lexer": "ipython3",
      "version": "3.9.15"
    },
    "colab": {
      "provenance": [],
      "include_colab_link": true
    }
  },
  "nbformat": 4,
  "nbformat_minor": 5
}